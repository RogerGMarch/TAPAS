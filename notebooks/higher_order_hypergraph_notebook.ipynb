{
 "cells": [
  {
   "cell_type": "code",
   "execution_count": null,
   "id": "dd21c402",
   "metadata": {},
   "outputs": [],
   "source": [
    "import numpy as np\n",
    "import pandas as pd\n",
    "import matplotlib.pyplot as plt\n",
    "import hoi \n",
    "\n",
    "path_data = './../../data/data_EHR/'\n",
    "path_results = './../../results/comorbility_results/'\n",
    "\n",
    "# %%\n",
    "\n",
    "age_groups = [f\"{i}-{i+1}\" for i in range(1, 20, 2)]\n",
    "years = [f\"{y}-{y+1}\" for y in range(2013, 2014, 2)]\n",
    "\n",
    "for age_group in age_groups:\n",
    "    for year in years:\n",
    "        filename = path_data +  f'Chronic_Links_Male_AgeGroup_{age_group}_year_{year}.csv'\n",
    "        try:\n",
    "            data = pd.read_csv(filename)\n",
    "        except FileNotFoundError:\n",
    "            print(f\"File not found: {filename}\")\n",
    "            continue\n",
    "\n",
    "        x = np.array(data)\n",
    "        hoi_model = hoi.metrics.Oinfo(x.astype(int))  # Limit to first 5000 rows for performance\n",
    "        hoi_results = hoi_model.fit(minsize=3, maxsize=3, method='binning')\n",
    "\n",
    "        result_filename = f'hoi_results_reduced_{age_group}_{year}.npy'\n",
    "        np.save(result_filename, hoi_results)\n"
   ]
  }
 ],
 "metadata": {
  "language_info": {
   "name": "python"
  }
 },
 "nbformat": 4,
 "nbformat_minor": 5
}
