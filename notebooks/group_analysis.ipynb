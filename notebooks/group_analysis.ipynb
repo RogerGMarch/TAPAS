{
 "cells": [
  {
   "cell_type": "markdown",
   "metadata": {},
   "source": [
    "### Group Analysis of Trajectories"
   ]
  },
  {
   "cell_type": "code",
   "execution_count": 1,
   "metadata": {},
   "outputs": [],
   "source": [
    "import numpy as np\n",
    "import matplotlib.pyplot as plt\n",
    "import pandas as pd\n",
    "import networkx as nx\n",
    "import os\n",
    "import seaborn as sns\n",
    "from sklearn.preprocessing import normalize\n",
    "import pyreadr\n",
    "import igraph as ig"
   ]
  },
  {
   "cell_type": "code",
   "execution_count": 2,
   "metadata": {},
   "outputs": [],
   "source": [
    "PATH = '../data/'"
   ]
  },
  {
   "cell_type": "code",
   "execution_count": 3,
   "metadata": {},
   "outputs": [],
   "source": [
    "def normalize_matrix(OR_mat):\n",
    "    # Loop over each row and normalize by row sums, avoiding division by zero\n",
    "    for i in range(OR_mat.shape[0]):\n",
    "        row_sum = OR_mat[i, :].sum()\n",
    "        if row_sum > 0:\n",
    "            OR_mat[i, :] = OR_mat[i, :] / row_sum\n",
    "    return OR_mat"
   ]
  },
  {
   "cell_type": "code",
   "execution_count": 4,
   "metadata": {},
   "outputs": [],
   "source": [
    "number_of_rows = 16\n",
    "properties = pd.DataFrame({\n",
    "    'Age': list(range(1, 9)) * 2,\n",
    "    'sex': [None] * number_of_rows,\n",
    "    'nodes': [None] * number_of_rows,\n",
    "    'degree': [None] * number_of_rows,\n",
    "    'avg_path_length': [None] * number_of_rows,\n",
    "    'betweenness': [None] * number_of_rows,\n",
    "    'centrality': [None] * number_of_rows,\n",
    "    'closeness': [None] * number_of_rows,\n",
    "    'density': [None] * number_of_rows,\n",
    "    'modularity': [None] * number_of_rows\n",
    "    \n",
    "})"
   ]
  },
  {
   "cell_type": "markdown",
   "metadata": {},
   "source": [
    "## Analysis"
   ]
  },
  {
   "cell_type": "code",
   "execution_count": null,
   "metadata": {},
   "outputs": [],
   "source": []
  }
 ],
 "metadata": {
  "kernelspec": {
   "display_name": "TAPAS",
   "language": "python",
   "name": "python3"
  },
  "language_info": {
   "codemirror_mode": {
    "name": "ipython",
    "version": 3
   },
   "file_extension": ".py",
   "mimetype": "text/x-python",
   "name": "python",
   "nbconvert_exporter": "python",
   "pygments_lexer": "ipython3",
   "version": "3.13.5"
  }
 },
 "nbformat": 4,
 "nbformat_minor": 2
}
